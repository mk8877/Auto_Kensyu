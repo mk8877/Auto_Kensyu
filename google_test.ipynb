{
 "cells": [
  {
   "cell_type": "code",
   "execution_count": 19,
   "metadata": {},
   "outputs": [
    {
     "data": {
      "text/plain": [
       "True"
      ]
     },
     "execution_count": 19,
     "metadata": {},
     "output_type": "execute_result"
    }
   ],
   "source": [
    "import gspread\n",
    "from oauth2client.service_account import ServiceAccountCredentials\n",
    "import datetime\n",
    "import os\n",
    "import webbrowser\n",
    "\n",
    "# use creds to create a client to interact with the Google Drive API\n",
    "scope = ['https://spreadsheets.google.com/feeds'] #google spreadsheet API\n",
    "creds = ServiceAccountCredentials.from_json_keyfile_name('spread-sheet-386510-6b8a91b72e28.json', scope) #json file you downloaded earlier\n",
    "client = gspread.authorize(creds) #authenticate with Google  in this test,this has been already done\n",
    "\n",
    "# Find a workbook by name and open the first sheet\n",
    "spreadsheet_id = '1Lo2XlNUG97LDFjjugDh1CRPDEWzp8x-AlYaECOIRRXE'  # Please set your Google Sheets ID\n",
    "sheet = client.open_by_key(spreadsheet_id).sheet1\n",
    "\n",
    "# Get today's date\n",
    "today = str(datetime.date.today())\n",
    "\n",
    "# Specify the cell to write to\n",
    "cell = 'A1'\n",
    "\n",
    "# Write today's date to the specified cell\n",
    "sheet.update_acell(cell, today)\n",
    "\n",
    "#open spread sheet\n",
    "webbrowser.open('https://docs.google.com/spreadsheets/d/1Lo2XlNUG97LDFjjugDh1CRPDEWzp8x-AlYaECOIRRXE/edit')"
   ]
  }
 ],
 "metadata": {
  "kernelspec": {
   "display_name": ".venv",
   "language": "python",
   "name": "python3"
  },
  "language_info": {
   "codemirror_mode": {
    "name": "ipython",
    "version": 3
   },
   "file_extension": ".py",
   "mimetype": "text/x-python",
   "name": "python",
   "nbconvert_exporter": "python",
   "pygments_lexer": "ipython3",
   "version": "3.10.7"
  },
  "orig_nbformat": 4
 },
 "nbformat": 4,
 "nbformat_minor": 2
}
